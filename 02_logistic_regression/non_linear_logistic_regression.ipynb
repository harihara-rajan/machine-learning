{
 "cells": [
  {
   "cell_type": "markdown",
   "id": "7e75f257",
   "metadata": {},
   "source": [
    "# Logistic Regression for Non-Linear Boundary\n",
    "* Logistic Regression in also called as Linear classifier.\n",
    "* In this we will check how good this linear classifier works for non-linear decision boundary \n",
    "* Also, Implemented the model that best suits for non-linear decision boundary problem of this kind \n",
    "* Performance measure for both the models will be carried out. "
   ]
  },
  {
   "cell_type": "code",
   "execution_count": 1,
   "id": "febe8f93",
   "metadata": {},
   "outputs": [],
   "source": [
    "import numpy as np \n",
    "import matplotlib.pyplot as plt \n",
    "import pandas as pd"
   ]
  },
  {
   "cell_type": "markdown",
   "id": "29c62434",
   "metadata": {},
   "source": [
    "### Dataset Explanation\n",
    "In this part of the exercise, you will implement logistic regression (Non-Lniear Boundary)\n",
    "to predict whether microchips from a fabrication plant passes quality assur-\n",
    "ance (QA). During QA, each microchip goes through various tests to ensure\n",
    "it is functioning correctly.\n",
    "Suppose you are the product manager of the factory and you have the\n",
    "test results for some microchips on two different tests. From these two tests,\n",
    "you would like to determine whether the microchips should be accepted or\n",
    "rejected. To help you make the decision, you have a dataset of test results\n",
    "on past microchips, from which you can build a logistic regression model."
   ]
  },
  {
   "cell_type": "code",
   "execution_count": 2,
   "id": "ac8a7542",
   "metadata": {},
   "outputs": [
    {
     "data": {
      "text/html": [
       "<div>\n",
       "<style scoped>\n",
       "    .dataframe tbody tr th:only-of-type {\n",
       "        vertical-align: middle;\n",
       "    }\n",
       "\n",
       "    .dataframe tbody tr th {\n",
       "        vertical-align: top;\n",
       "    }\n",
       "\n",
       "    .dataframe thead th {\n",
       "        text-align: right;\n",
       "    }\n",
       "</style>\n",
       "<table border=\"1\" class=\"dataframe\">\n",
       "  <thead>\n",
       "    <tr style=\"text-align: right;\">\n",
       "      <th></th>\n",
       "      <th>0</th>\n",
       "      <th>1</th>\n",
       "      <th>2</th>\n",
       "    </tr>\n",
       "  </thead>\n",
       "  <tbody>\n",
       "    <tr>\n",
       "      <th>0</th>\n",
       "      <td>0.051267</td>\n",
       "      <td>0.69956</td>\n",
       "      <td>1</td>\n",
       "    </tr>\n",
       "    <tr>\n",
       "      <th>1</th>\n",
       "      <td>-0.092742</td>\n",
       "      <td>0.68494</td>\n",
       "      <td>1</td>\n",
       "    </tr>\n",
       "    <tr>\n",
       "      <th>2</th>\n",
       "      <td>-0.213710</td>\n",
       "      <td>0.69225</td>\n",
       "      <td>1</td>\n",
       "    </tr>\n",
       "    <tr>\n",
       "      <th>3</th>\n",
       "      <td>-0.375000</td>\n",
       "      <td>0.50219</td>\n",
       "      <td>1</td>\n",
       "    </tr>\n",
       "    <tr>\n",
       "      <th>4</th>\n",
       "      <td>-0.513250</td>\n",
       "      <td>0.46564</td>\n",
       "      <td>1</td>\n",
       "    </tr>\n",
       "  </tbody>\n",
       "</table>\n",
       "</div>"
      ],
      "text/plain": [
       "          0        1  2\n",
       "0  0.051267  0.69956  1\n",
       "1 -0.092742  0.68494  1\n",
       "2 -0.213710  0.69225  1\n",
       "3 -0.375000  0.50219  1\n",
       "4 -0.513250  0.46564  1"
      ]
     },
     "execution_count": 2,
     "metadata": {},
     "output_type": "execute_result"
    }
   ],
   "source": [
    "## Reading the Dataset ##\n",
    "dataset = pd.read_csv(\"ex2data2.csv\",header=None)\n",
    "dataset.head()\n",
    "# column 0 --> microchip 1\n",
    "# column 1 --> microchip 2\n",
    "# column 3 --> y{0,1}, 1--> passed the test and 0--> failed the test"
   ]
  },
  {
   "cell_type": "code",
   "execution_count": 3,
   "id": "e9ca6e10",
   "metadata": {},
   "outputs": [],
   "source": [
    "X = dataset.iloc[:,:2].values\n",
    "y = dataset.iloc[:,-1].values\n",
    "y = y.reshape(len(y),1)"
   ]
  },
  {
   "cell_type": "markdown",
   "id": "3c960170",
   "metadata": {},
   "source": [
    "## Visualizing the data"
   ]
  },
  {
   "cell_type": "code",
   "execution_count": 4,
   "id": "620dc201",
   "metadata": {},
   "outputs": [
    {
     "data": {
      "image/png": "[encoded data removed]",
      "text/plain": [
       "<Figure size 432x288 with 1 Axes>"
      ]
     },
     "metadata": {
      "needs_background": "light"
     },
     "output_type": "display_data"
    }
   ],
   "source": [
    "pos,neg = (np.where(y==1),np.where(y==0))\n",
    "m1 = X[:,0] # microchip 1\n",
    "m2 = X[:,1] # microchip 2 \n",
    "plt.scatter(m1[pos[0]],m2[pos[0]], label=\"Passed [1]\")\n",
    "plt.scatter(m1[neg[0]],m2[neg[0]], label=\"Failed [0]\")\n",
    "plt.xlabel(\"Microchip 1\")\n",
    "plt.ylabel(\"Microchip 2\")\n",
    "plt.legend()\n",
    "plt.show()"
   ]
  },
  {
   "cell_type": "markdown",
   "id": "f9480e50",
   "metadata": {},
   "source": [
    "## Test/Train Split "
   ]
  },
  {
   "cell_type": "code",
   "execution_count": 5,
   "id": "92a36cfd",
   "metadata": {},
   "outputs": [],
   "source": [
    "from sklearn.model_selection import train_test_split\n",
    "X_train, X_test, y_train, y_test = train_test_split(X,y,test_size=0.2, random_state=42)\n"
   ]
  },
  {
   "cell_type": "markdown",
   "id": "602721e7",
   "metadata": {},
   "source": [
    "## Training the Data"
   ]
  },
  {
   "cell_type": "code",
   "execution_count": 6,
   "id": "8e019281",
   "metadata": {},
   "outputs": [
    {
     "name": "stderr",
     "output_type": "stream",
     "text": [
      "/home/hari-cms/anaconda3/lib/python3.7/site-packages/sklearn/utils/validation.py:63: DataConversionWarning: A column-vector y was passed when a 1d array was expected. Please change the shape of y to (n_samples, ), for example using ravel().\n",
      "  return f(*args, **kwargs)\n"
     ]
    },
    {
     "data": {
      "text/plain": [
       "LogisticRegression()"
      ]
     },
     "execution_count": 6,
     "metadata": {},
     "output_type": "execute_result"
    }
   ],
   "source": [
    "from sklearn.linear_model import LogisticRegression\n",
    "log_cls = LogisticRegression()\n",
    "log_cls.fit(X_train,y_train)"
   ]
  },
  {
   "cell_type": "markdown",
   "id": "b01d79d3",
   "metadata": {},
   "source": [
    "## Training Accuracy \n",
    "* we will compute how good the model fit our training data \n",
    "* we do this by using predict function from our log_cls instance and pass in X_train as an argument and predict y_pred_train \n",
    "* we will use confusion matrix, precision, recall to find how good our model classified our data "
   ]
  },
  {
   "cell_type": "code",
   "execution_count": 7,
   "id": "90593203",
   "metadata": {},
   "outputs": [],
   "source": [
    "y_pred_train = log_cls.predict(X_train)"
   ]
  },
  {
   "cell_type": "code",
   "execution_count": 10,
   "id": "15c3b3e4",
   "metadata": {},
   "outputs": [
    {
     "name": "stdout",
     "output_type": "stream",
     "text": [
      "[[1 0]\n",
      " [1 0]\n",
      " [1 0]\n",
      " [0 0]\n",
      " [0 1]\n",
      " [1 0]\n",
      " [0 0]\n",
      " [1 1]\n",
      " [1 0]\n",
      " [1 1]\n",
      " [0 0]\n",
      " [1 1]\n",
      " [0 0]\n",
      " [0 0]\n",
      " [1 0]\n",
      " [1 1]\n",
      " [0 1]\n",
      " [0 0]\n",
      " [1 1]\n",
      " [1 1]\n",
      " [0 1]\n",
      " [1 1]\n",
      " [0 0]\n",
      " [0 0]\n",
      " [1 0]\n",
      " [1 1]\n",
      " [1 1]\n",
      " [1 1]\n",
      " [0 0]\n",
      " [1 1]\n",
      " [0 1]\n",
      " [1 0]\n",
      " [1 0]\n",
      " [0 1]\n",
      " [0 0]\n",
      " [1 0]\n",
      " [1 1]\n",
      " [0 1]\n",
      " [0 0]\n",
      " [1 0]\n",
      " [1 0]\n",
      " [1 0]\n",
      " [0 0]\n",
      " [1 1]\n",
      " [1 1]\n",
      " [1 0]\n",
      " [0 1]\n",
      " [1 1]\n",
      " [0 0]\n",
      " [0 0]\n",
      " [0 1]\n",
      " [1 1]\n",
      " [1 1]\n",
      " [0 1]\n",
      " [1 0]\n",
      " [0 0]\n",
      " [0 0]\n",
      " [0 1]\n",
      " [0 0]\n",
      " [0 1]\n",
      " [1 0]\n",
      " [0 1]\n",
      " [1 0]\n",
      " [0 0]\n",
      " [1 0]\n",
      " [0 0]\n",
      " [1 1]\n",
      " [0 1]\n",
      " [0 1]\n",
      " [0 0]\n",
      " [0 0]\n",
      " [1 0]\n",
      " [1 1]\n",
      " [0 0]\n",
      " [1 1]\n",
      " [1 1]\n",
      " [1 1]\n",
      " [1 1]\n",
      " [1 0]\n",
      " [0 0]\n",
      " [0 1]\n",
      " [0 1]\n",
      " [0 0]\n",
      " [0 1]\n",
      " [0 0]\n",
      " [0 0]\n",
      " [1 1]\n",
      " [0 1]\n",
      " [0 0]\n",
      " [0 1]\n",
      " [1 0]\n",
      " [0 1]\n",
      " [1 1]\n",
      " [0 0]]\n"
     ]
    }
   ],
   "source": [
    "print(np.concatenate((y_train, y_pred_train.reshape(len(y_pred_train),1)), axis=1))"
   ]
  },
  {
   "cell_type": "code",
   "execution_count": 13,
   "id": "ef690136",
   "metadata": {},
   "outputs": [
    {
     "data": {
      "text/plain": [
       "array([[28, 20],\n",
       "       [21, 25]])"
      ]
     },
     "execution_count": 13,
     "metadata": {},
     "output_type": "execute_result"
    }
   ],
   "source": [
    "from sklearn.metrics import confusion_matrix,recall_score,precision_score\n",
    "confusios_mat = confusion_matrix(y_train, y_pred_train)\n",
    "confusios_mat"
   ]
  },
  {
   "cell_type": "code",
   "execution_count": 14,
   "id": "7a8f97f1",
   "metadata": {},
   "outputs": [
    {
     "name": "stdout",
     "output_type": "stream",
     "text": [
      "precision : 0.5555555555555556 , recall : 0.5434782608695652\n"
     ]
    }
   ],
   "source": [
    "precision = precision_score(y_train, y_pred_train)\n",
    "recall = recall_score(y_train, y_pred_train)\n",
    "print(\"precision : {} , recall : {}\".format(precision, recall))"
   ]
  },
  {
   "cell_type": "markdown",
   "id": "3106828e",
   "metadata": {},
   "source": [
    "### Explanation of Logistic Regression being a Linear classifier\n",
    "From the precision and recall score, we can easily say that logistic regression will never work properly for a non-linear data-set like this (refer the fig shown above). But, to use the same classifier for non-linear data-set, we can do feature mapping to some higher degree polynomial along with the regularisation concept, we can definitely improve the performance of the algorithm. Instead there is an algorithm **Support Vector Machine** which will work well with a non-linear data-set, we will use this algorithm and we will measure the performance of this algorithm"
   ]
  },
  {
   "cell_type": "code",
   "execution_count": null,
   "id": "a3a7094b",
   "metadata": {},
   "outputs": [],
   "source": []
  }
 ],
 "metadata": {
  "kernelspec": {
   "display_name": "Python 3",
   "language": "python",
   "name": "python3"
  },
  "language_info": {
   "codemirror_mode": {
    "name": "ipython",
    "version": 3
   },
   "file_extension": ".py",
   "mimetype": "text/x-python",
   "name": "python",
   "nbconvert_exporter": "python",
   "pygments_lexer": "ipython3",
   "version": "3.7.6"
  }
 },
 "nbformat": 4,
 "nbformat_minor": 5
}
