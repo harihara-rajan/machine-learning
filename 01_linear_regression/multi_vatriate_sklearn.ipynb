{
 "cells": [
  {
   "cell_type": "markdown",
   "id": "2d388726",
   "metadata": {},
   "source": [
    "## Multi- Variate Linear Regression : Library Implementation\n",
    "* Linear Regression with one variable implemented with scikit learn \n",
    "* This is library implementation of multi-variate linear-regression.\n",
    "* Exercise 01 part 02 of Machine Learning course instructed by Andrew Ng"
   ]
  },
  {
   "cell_type": "markdown",
   "id": "43a21b3b",
   "metadata": {},
   "source": [
    "# Import Libraries"
   ]
  },
  {
   "cell_type": "code",
   "execution_count": 1,
   "id": "34e96c45",
   "metadata": {},
   "outputs": [],
   "source": [
    "import numpy as np \n",
    "import matplotlib.pyplot as plt\n",
    "import pandas as pd "
   ]
  },
  {
   "cell_type": "markdown",
   "id": "0e8fdb61",
   "metadata": {},
   "source": [
    "# Importing Data set "
   ]
  },
  {
   "cell_type": "code",
   "execution_count": 2,
   "id": "5585306b",
   "metadata": {},
   "outputs": [
    {
     "data": {
      "text/html": [
       "<div>\n",
       "<style scoped>\n",
       "    .dataframe tbody tr th:only-of-type {\n",
       "        vertical-align: middle;\n",
       "    }\n",
       "\n",
       "    .dataframe tbody tr th {\n",
       "        vertical-align: top;\n",
       "    }\n",
       "\n",
       "    .dataframe thead th {\n",
       "        text-align: right;\n",
       "    }\n",
       "</style>\n",
       "<table border=\"1\" class=\"dataframe\">\n",
       "  <thead>\n",
       "    <tr style=\"text-align: right;\">\n",
       "      <th></th>\n",
       "      <th>x1</th>\n",
       "      <th>x2</th>\n",
       "      <th>y</th>\n",
       "    </tr>\n",
       "  </thead>\n",
       "  <tbody>\n",
       "    <tr>\n",
       "      <th>0</th>\n",
       "      <td>2104</td>\n",
       "      <td>3</td>\n",
       "      <td>399900</td>\n",
       "    </tr>\n",
       "    <tr>\n",
       "      <th>1</th>\n",
       "      <td>1600</td>\n",
       "      <td>3</td>\n",
       "      <td>329900</td>\n",
       "    </tr>\n",
       "    <tr>\n",
       "      <th>2</th>\n",
       "      <td>2400</td>\n",
       "      <td>3</td>\n",
       "      <td>369000</td>\n",
       "    </tr>\n",
       "    <tr>\n",
       "      <th>3</th>\n",
       "      <td>1416</td>\n",
       "      <td>2</td>\n",
       "      <td>232000</td>\n",
       "    </tr>\n",
       "    <tr>\n",
       "      <th>4</th>\n",
       "      <td>3000</td>\n",
       "      <td>4</td>\n",
       "      <td>539900</td>\n",
       "    </tr>\n",
       "  </tbody>\n",
       "</table>\n",
       "</div>"
      ],
      "text/plain": [
       "     x1  x2       y\n",
       "0  2104   3  399900\n",
       "1  1600   3  329900\n",
       "2  2400   3  369000\n",
       "3  1416   2  232000\n",
       "4  3000   4  539900"
      ]
     },
     "execution_count": 2,
     "metadata": {},
     "output_type": "execute_result"
    }
   ],
   "source": [
    "dataset = pd.read_csv(\"ex1data2.csv\")\n",
    "dataset.head()"
   ]
  },
  {
   "cell_type": "code",
   "execution_count": 4,
   "id": "bd77ec30",
   "metadata": {},
   "outputs": [],
   "source": [
    "# note that the shape of X and Y should be like matrix and not like a vector \n",
    "# i.e. x --> (len(x),1) and not like x --> (len(x),)\n",
    "# same applicable to y\n",
    "X = dataset.iloc[:,0:-1].values # independent variable\n",
    "y = dataset.iloc[:,-1].values # dependent variable \n",
    "y = y.reshape(len(y),1)"
   ]
  },
  {
   "cell_type": "markdown",
   "id": "2f3eee1c",
   "metadata": {},
   "source": [
    "## Importing linear regression model from sklearn library"
   ]
  },
  {
   "cell_type": "code",
   "execution_count": 5,
   "id": "a670bb75",
   "metadata": {},
   "outputs": [
    {
     "data": {
      "text/plain": [
       "LinearRegression()"
      ]
     },
     "execution_count": 5,
     "metadata": {},
     "output_type": "execute_result"
    }
   ],
   "source": [
    "from sklearn.linear_model import LinearRegression\n",
    "regressor = LinearRegression()\n",
    "regressor.fit(X,y)"
   ]
  },
  {
   "cell_type": "code",
   "execution_count": 7,
   "id": "df7cadb6",
   "metadata": {},
   "outputs": [],
   "source": [
    "y_pred = regressor.predict(X)"
   ]
  },
  {
   "cell_type": "markdown",
   "id": "2512a559",
   "metadata": {},
   "source": [
    "## Prediction "
   ]
  },
  {
   "cell_type": "code",
   "execution_count": 21,
   "id": "daf35c0b",
   "metadata": {},
   "outputs": [
    {
     "name": "stdout",
     "output_type": "stream",
     "text": [
      "predicted price for 1650 sq meter and 3 bedroom house is $ [[293081.4643349]]\n"
     ]
    }
   ],
   "source": [
    "## predicting the house price with 1650 area and 3 bed-rooms\n",
    "x = np.array([1650,3]).reshape(1,2)\n",
    "# predicted price for 3 bedroom and 1650 sq meter house\n",
    "y_ = regressor.predict(x)\n",
    "print(\"predicted price for {} sq meter and {} bedroom house is $ {}\".format(x[0,0],x[0,1],y_))"
   ]
  },
  {
   "cell_type": "code",
   "execution_count": null,
   "id": "1b5b38ad",
   "metadata": {},
   "outputs": [],
   "source": []
  }
 ],
 "metadata": {
  "kernelspec": {
   "display_name": "Python 3",
   "language": "python",
   "name": "python3"
  },
  "language_info": {
   "codemirror_mode": {
    "name": "ipython",
    "version": 3
   },
   "file_extension": ".py",
   "mimetype": "text/x-python",
   "name": "python",
   "nbconvert_exporter": "python",
   "pygments_lexer": "ipython3",
   "version": "3.7.6"
  }
 },
 "nbformat": 4,
 "nbformat_minor": 5
}
